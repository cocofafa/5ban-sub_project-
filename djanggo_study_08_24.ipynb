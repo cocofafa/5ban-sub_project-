{
  "nbformat": 4,
  "nbformat_minor": 0,
  "metadata": {
    "colab": {
      "name": "djanggo_study_08.24",
      "provenance": [],
      "authorship_tag": "ABX9TyOfjs34T6zd5we1y0LxP1sP",
      "include_colab_link": true
    },
    "kernelspec": {
      "name": "python3",
      "display_name": "Python 3"
    },
    "language_info": {
      "name": "python"
    }
  },
  "cells": [
    {
      "cell_type": "markdown",
      "metadata": {
        "id": "view-in-github",
        "colab_type": "text"
      },
      "source": [
        "<a href=\"https://colab.research.google.com/github/cocofafa/5ban-sub_project-/blob/master/djanggo_study_08_24.ipynb\" target=\"_parent\"><img src=\"https://colab.research.google.com/assets/colab-badge.svg\" alt=\"Open In Colab\"/></a>"
      ]
    },
    {
      "cell_type": "code",
      "metadata": {
        "id": "WNrhWKdrIoiw"
      },
      "source": [
        "#메인앱 - settings - Installed_app - 'accountapp', 작성\n",
        "\n",
        "\n",
        "\n",
        "#accountapp-view 서버애서 보여주는 기본적입 모습을 만들어 준다\n",
        "\n",
        "#인자로(주소에) request 를 받아와 Hello world를 돌려준다"
      ],
      "execution_count": null,
      "outputs": []
    },
    {
      "cell_type": "code",
      "metadata": {
        "id": "hhoOz4T2I3xr"
      },
      "source": [
        "from django.http import HttpResponse\n",
        "from django.shortcuts import render\n",
        "\n",
        "# Create your views here.\n",
        "\n",
        "\n",
        "def hello_world(request):\n",
        "    return HttpResponse('Hello world!')"
      ],
      "execution_count": null,
      "outputs": []
    },
    {
      "cell_type": "code",
      "metadata": {
        "id": "K3yQq9GtI3zy"
      },
      "source": [
        "#특정주소를 들어가 View를 보여줘야하기 때문에 특정주소를 만들어준다 ( 라우팅)\n",
        "\n",
        "#메인앱-urls"
      ],
      "execution_count": null,
      "outputs": []
    },
    {
      "cell_type": "code",
      "metadata": {
        "id": "r7mEEsqRI32B"
      },
      "source": [
        "from django.contrib import admin\n",
        "from django.urls import path, include\n",
        "\n",
        "urlpatterns = [\n",
        "    path('admin/', admin.site.urls),\n",
        "    path('account/', include('accountapp.urls')),\n",
        "]       ##account를 만들어줘 인클루트 구문을 만들어 준다  하위분기\n"
      ],
      "execution_count": null,
      "outputs": []
    },
    {
      "cell_type": "code",
      "metadata": {
        "id": "dpLjt8txI336"
      },
      "source": [
        "#hello_world 로 접근하면 해당 view를 보여주는 형식"
      ],
      "execution_count": null,
      "outputs": []
    },
    {
      "cell_type": "code",
      "metadata": {
        "id": "ATTLyrM5I355"
      },
      "source": [
        "from django.urls import path\n",
        "\n",
        "from accountapp.views import hello_world\n",
        "\n",
        "app_name=\"accountapp\"\n",
        "\n",
        "urlpatterns = [\n",
        "\n",
        "    path('hello_world/', hello_world, name = 'hello_world' )\n",
        "\n",
        " \n",
        "]        #경로에 대한 자세한 설명 강사님게 여쭤보기!"
      ],
      "execution_count": null,
      "outputs": []
    },
    {
      "cell_type": "code",
      "metadata": {
        "id": "8dkfKdZ4I372"
      },
      "source": [
        ""
      ],
      "execution_count": null,
      "outputs": []
    }
  ]
}